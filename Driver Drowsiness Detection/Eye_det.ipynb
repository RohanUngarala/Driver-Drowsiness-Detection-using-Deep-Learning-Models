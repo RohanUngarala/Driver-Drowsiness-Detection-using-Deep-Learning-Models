{
 "cells": [
  {
   "cell_type": "code",
   "execution_count": 1,
   "id": "a62603ad",
   "metadata": {},
   "outputs": [],
   "source": [
    "import cv2\n",
    "import imutils\n",
    "output_folder = 'Eye/'\n",
    "face_cascade = cv2.CascadeClassifier('haarcascade_eye.xml')\n",
    "def extract_eye(image):\n",
    "    frame = cv2.imread(image)\n",
    "\n",
    "    gray = cv2.cvtColor(frame, cv2.COLOR_BGR2GRAY)\n",
    "    faces = face_cascade.detectMultiScale(gray, scaleFactor=1.1, minNeighbors=11)\n",
    "    count = 0\n",
    "    for (x, y, w, h) in faces:\n",
    "        myframe = frame[y:y+h,x:x+w]\n",
    "        cv2.imwrite(output_folder+image.split('/')[-1].split('.')[0] + str(count) + '.jpg', myframe)\n",
    "        cv2.rectangle(frame, (x, y), (x+w, y+h), (0, 255, 125), 2)\n",
    "        count += 1\n",
    "    cv2.destroyAllWindows()\n"
   ]
  },
  {
   "cell_type": "code",
   "execution_count": 2,
   "id": "7670db38",
   "metadata": {},
   "outputs": [],
   "source": [
    "import os\n",
    "link = \"C:/Users/urnvm/Downloads/Final Dataset/0 FaceImages/Active Subjects/\""
   ]
  },
  {
   "cell_type": "code",
   "execution_count": 3,
   "id": "1f4297a5",
   "metadata": {},
   "outputs": [],
   "source": [
    "images_list =  os.listdir(link)\n",
    "for image in images_list:\n",
    "    extract_eye(link+image)"
   ]
  },
  {
   "cell_type": "code",
   "execution_count": null,
   "id": "62cc59f5",
   "metadata": {},
   "outputs": [],
   "source": []
  }
 ],
 "metadata": {
  "kernelspec": {
   "display_name": "Python 3 (ipykernel)",
   "language": "python",
   "name": "python3"
  },
  "language_info": {
   "codemirror_mode": {
    "name": "ipython",
    "version": 3
   },
   "file_extension": ".py",
   "mimetype": "text/x-python",
   "name": "python",
   "nbconvert_exporter": "python",
   "pygments_lexer": "ipython3",
   "version": "3.9.7"
  }
 },
 "nbformat": 4,
 "nbformat_minor": 5
}
