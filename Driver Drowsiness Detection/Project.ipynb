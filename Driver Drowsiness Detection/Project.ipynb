{
 "cells": [
  {
   "cell_type": "code",
   "execution_count": null,
   "id": "36ec49fc",
   "metadata": {},
   "outputs": [],
   "source": [
    "from Eye_model import Eye_models\n",
    "Eye_model = Corn_models()"
   ]
  },
  {
   "cell_type": "code",
   "execution_count": null,
   "id": "7fa06070",
   "metadata": {},
   "outputs": [],
   "source": [
    "handMadeModel = Eye_model.hand_made_model_setup()\n",
    "Eye_model.model_train(handMadeModel,0)"
   ]
  },
  {
   "cell_type": "code",
   "execution_count": null,
   "id": "85dbc22b",
   "metadata": {},
   "outputs": [],
   "source": [
    "Eye_model.model_testing(handMadeModel,0)"
   ]
  },
  {
   "cell_type": "code",
   "execution_count": null,
   "id": "fe65b539",
   "metadata": {},
   "outputs": [],
   "source": [
    "VGG16_model = Eye_model.VGG16_model_setup()\n",
    "Eye_model.model_train(VGG16_model,0)"
   ]
  },
  {
   "cell_type": "code",
   "execution_count": null,
   "id": "feb6b402",
   "metadata": {},
   "outputs": [],
   "source": [
    "Eye_model.model_testing(VGG16_model,0)"
   ]
  },
  {
   "cell_type": "code",
   "execution_count": null,
   "id": "e8e683cf",
   "metadata": {},
   "outputs": [],
   "source": [
    "resnet_model = Eye_model.ResNet50_model_setup()\n",
    "Eye_model.model_train(resnet_model,1)"
   ]
  },
  {
   "cell_type": "code",
   "execution_count": null,
   "id": "90d68c11",
   "metadata": {},
   "outputs": [],
   "source": [
    "Eye_model.model_testing(resnet_model,1)"
   ]
  },
  {
   "cell_type": "code",
   "execution_count": null,
   "id": "e5d9e764",
   "metadata": {},
   "outputs": [],
   "source": []
  }
 ],
 "metadata": {
  "kernelspec": {
   "display_name": "Python 3 (ipykernel)",
   "language": "python",
   "name": "python3"
  },
  "language_info": {
   "codemirror_mode": {
    "name": "ipython",
    "version": 3
   },
   "file_extension": ".py",
   "mimetype": "text/x-python",
   "name": "python",
   "nbconvert_exporter": "python",
   "pygments_lexer": "ipython3",
   "version": "3.8.8"
  }
 },
 "nbformat": 4,
 "nbformat_minor": 5
}
